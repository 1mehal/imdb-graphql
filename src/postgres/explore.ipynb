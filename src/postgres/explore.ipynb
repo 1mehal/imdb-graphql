{
 "cells": [
  {
   "cell_type": "code",
   "execution_count": null,
   "metadata": {},
   "outputs": [],
   "source": [
    "library(tidyverse)"
   ]
  },
  {
   "cell_type": "code",
   "execution_count": null,
   "metadata": {},
   "outputs": [],
   "source": [
    "source(\"read_imdb.R\")"
   ]
  },
  {
   "cell_type": "code",
   "execution_count": null,
   "metadata": {},
   "outputs": [],
   "source": [
    "data_dir <- file.path(\"..\", \"..\", \"data\")"
   ]
  },
  {
   "cell_type": "code",
   "execution_count": null,
   "metadata": {},
   "outputs": [],
   "source": [
    "list.files(data_dir)"
   ]
  },
  {
   "cell_type": "code",
   "execution_count": null,
   "metadata": {},
   "outputs": [],
   "source": [
    "max_int <- function(df) {\n",
    "    df %>% summarize_if(is.numeric, max, na.rm=TRUE)\n",
    "}"
   ]
  },
  {
   "cell_type": "code",
   "execution_count": null,
   "metadata": {},
   "outputs": [],
   "source": [
    "max_char_len <- function(df) {\n",
    "    df %>% summarize_if(is.character, ~ max(nchar(.x), na.rm=TRUE))\n",
    "}"
   ]
  },
  {
   "cell_type": "code",
   "execution_count": null,
   "metadata": {},
   "outputs": [],
   "source": [
    "max_elem_len <- function(df) {\n",
    "    df %>% summarize_if(is.list, ~ .x %>% flatten %>% nchar %>% max(na.rm=TRUE))\n",
    "}"
   ]
  },
  {
   "cell_type": "code",
   "execution_count": null,
   "metadata": {},
   "outputs": [],
   "source": [
    "titles <- read_imdb(file.path(data_dir, \"title.basics.tsv\"), \"titles\")\n",
    "head(titles)"
   ]
  },
  {
   "cell_type": "code",
   "execution_count": null,
   "metadata": {},
   "outputs": [],
   "source": [
    "max_int(titles)\n",
    "max_char_len(titles)\n",
    "max_elem_len(titles)"
   ]
  },
  {
   "cell_type": "code",
   "execution_count": null,
   "metadata": {},
   "outputs": [],
   "source": [
    "akas <- read_imdb(file.path(data_dir, \"title.akas.tsv\"), \"akas\")\n",
    "head(akas)"
   ]
  },
  {
   "cell_type": "code",
   "execution_count": null,
   "metadata": {},
   "outputs": [],
   "source": [
    "max_int(akas)\n",
    "max_char_len(akas)\n",
    "max_elem_len(akas)"
   ]
  },
  {
   "cell_type": "code",
   "execution_count": null,
   "metadata": {},
   "outputs": [],
   "source": [
    "episodes <- read_imdb(file.path(data_dir, \"title.episode.tsv\"), \"episodes\")\n",
    "head(episodes)"
   ]
  },
  {
   "cell_type": "code",
   "execution_count": null,
   "metadata": {},
   "outputs": [],
   "source": [
    "max_int(episodes)\n",
    "max_char_len(episodes)"
   ]
  },
  {
   "cell_type": "code",
   "execution_count": null,
   "metadata": {},
   "outputs": [],
   "source": [
    "people <- read_imdb(file.path(data_dir, \"name.basics.tsv\"), \"people\")\n",
    "head(people)"
   ]
  },
  {
   "cell_type": "code",
   "execution_count": null,
   "metadata": {},
   "outputs": [],
   "source": [
    "max_int(people)\n",
    "max_char_len(people)\n",
    "max_elem_len(people)"
   ]
  },
  {
   "cell_type": "code",
   "execution_count": null,
   "metadata": {},
   "outputs": [],
   "source": [
    "principals <- read_imdb(file.path(data_dir, \"title.principals.tsv\"), \"principals\")\n",
    "head(principals)"
   ]
  },
  {
   "cell_type": "code",
   "execution_count": null,
   "metadata": {},
   "outputs": [],
   "source": [
    "max_int(principals)\n",
    "max_char_len(principals)\n",
    "max_elem_len(principals)"
   ]
  }
 ],
 "metadata": {
  "kernelspec": {
   "display_name": "R",
   "language": "R",
   "name": "ir"
  },
  "language_info": {
   "codemirror_mode": "r",
   "file_extension": ".r",
   "mimetype": "text/x-r-source",
   "name": "R",
   "pygments_lexer": "r",
   "version": "3.5.1"
  }
 },
 "nbformat": 4,
 "nbformat_minor": 2
}
